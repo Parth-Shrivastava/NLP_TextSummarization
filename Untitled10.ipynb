{
  "nbformat": 4,
  "nbformat_minor": 0,
  "metadata": {
    "colab": {
      "provenance": [],
      "authorship_tag": "ABX9TyPIKCW0IkYEpNRZyfSzO1mu",
      "include_colab_link": true
    },
    "kernelspec": {
      "name": "python3",
      "display_name": "Python 3"
    },
    "language_info": {
      "name": "python"
    }
  },
  "cells": [
    {
      "cell_type": "markdown",
      "metadata": {
        "id": "view-in-github",
        "colab_type": "text"
      },
      "source": [
        "<a href=\"https://colab.research.google.com/github/Parth-Shrivastava/NLP_TextSummarization/blob/main/Untitled10.ipynb\" target=\"_parent\"><img src=\"https://colab.research.google.com/assets/colab-badge.svg\" alt=\"Open In Colab\"/></a>"
      ]
    },
    {
      "cell_type": "code",
      "execution_count": null,
      "metadata": {
        "id": "4K1EjYFEqWhC"
      },
      "outputs": [],
      "source": [
        "import numpy as np\n",
        "import pandas as pd"
      ]
    },
    {
      "cell_type": "code",
      "source": [
        "text = \"\"\"\n",
        "There is a bomb in my hometown, and no one speaks about it.\n",
        "\n",
        "\n",
        "The park that surrounds it acts like a nest, grown up naturally around the smooth, rounded metal body that lies half buried in the soil, the ground itself embracing it.\n",
        "\n",
        "\n",
        "Sensible people would put it out of their minds altogether, but ever since my classmates and I discovered it by sneaking past the barbed wire fence into its clearing, I was never able to. At first, I had been disappointed. This, a charcoal grey container, half hidden by moss and bracken, was the affront that everyone avoided even looking at as they went by?\n",
        "\n",
        "\n",
        "Only when I got home that evening – when I saw how my mother reacted to the news of where I had been – did I gain my first inkling of understanding.\n",
        "\n",
        "\n",
        "Her face drained of all colour, her lips slackened, and her eyes widened as though trying to drink in all of me for fear that I might have suddenly disappeared. Her hands trembled as her arms encircled me, and she dropped to her knees as she held me close to her body, buried her face in my hair. The top of my head grew wet with her tears as she held on tightly, and whispered a plea, begging me never to go near it again, saying that the thing could go off any day now and no one knew what damage it would do.\n",
        "\n",
        "\n",
        "That was the first time I learned of my own impermanence. That there was a world before me, and one day, would be a world after.\"\"\""
      ],
      "metadata": {
        "id": "JBfj5ENXqjTH"
      },
      "execution_count": null,
      "outputs": []
    },
    {
      "cell_type": "code",
      "source": [
        "import spacy\n",
        "from spacy.lang.en.stop_words  import STOP_WORDS\n",
        "import string"
      ],
      "metadata": {
        "id": "bRJrMr6wqnua"
      },
      "execution_count": null,
      "outputs": []
    },
    {
      "cell_type": "code",
      "source": [
        "stopwords=list(STOP_WORDS)\n",
        "stopwords[:100]"
      ],
      "metadata": {
        "colab": {
          "base_uri": "https://localhost:8080/"
        },
        "id": "528ZPjYoqqyD",
        "outputId": "3b5b7555-8f7e-48f4-f3d6-d356032d19a4"
      },
      "execution_count": null,
      "outputs": [
        {
          "output_type": "execute_result",
          "data": {
            "text/plain": [
              "['whether',\n",
              " 're',\n",
              " 'thereupon',\n",
              " 'sometimes',\n",
              " 'may',\n",
              " 'twenty',\n",
              " 'much',\n",
              " 'nowhere',\n",
              " 'seeming',\n",
              " 'four',\n",
              " 'thereafter',\n",
              " '‘ll',\n",
              " 'sixty',\n",
              " 'thru',\n",
              " 'though',\n",
              " 'front',\n",
              " 'everything',\n",
              " 'out',\n",
              " 'would',\n",
              " 'however',\n",
              " 'for',\n",
              " 'becomes',\n",
              " 'they',\n",
              " 'get',\n",
              " 'whereafter',\n",
              " 'that',\n",
              " 'further',\n",
              " 'under',\n",
              " 'hundred',\n",
              " 'herein',\n",
              " 'first',\n",
              " 'will',\n",
              " 'indeed',\n",
              " 'eight',\n",
              " 'using',\n",
              " 'several',\n",
              " 'the',\n",
              " 'whoever',\n",
              " 'five',\n",
              " 'third',\n",
              " 'back',\n",
              " 'keep',\n",
              " 'are',\n",
              " 'now',\n",
              " 'used',\n",
              " 'there',\n",
              " 'why',\n",
              " 'already',\n",
              " 'twelve',\n",
              " 'either',\n",
              " 'she',\n",
              " 'someone',\n",
              " 'last',\n",
              " \"'d\",\n",
              " 'seem',\n",
              " 'while',\n",
              " 'top',\n",
              " 'ten',\n",
              " 'less',\n",
              " 'whatever',\n",
              " 'across',\n",
              " 'most',\n",
              " \"'ll\",\n",
              " 'become',\n",
              " 'more',\n",
              " 'was',\n",
              " '‘re',\n",
              " 'everywhere',\n",
              " 'thereby',\n",
              " 'up',\n",
              " 'bottom',\n",
              " 'anyone',\n",
              " 'myself',\n",
              " 'behind',\n",
              " 'he',\n",
              " '’ve',\n",
              " 'name',\n",
              " 'beforehand',\n",
              " 'regarding',\n",
              " 'wherein',\n",
              " 'rather',\n",
              " 'enough',\n",
              " 'him',\n",
              " 'so',\n",
              " 'me',\n",
              " 'neither',\n",
              " 'very',\n",
              " '‘d',\n",
              " 'namely',\n",
              " 'amongst',\n",
              " 'am',\n",
              " 'yours',\n",
              " 'above',\n",
              " 'during',\n",
              " 'did',\n",
              " 'you',\n",
              " 'between',\n",
              " 'to',\n",
              " 'throughout',\n",
              " 'often']"
            ]
          },
          "metadata": {},
          "execution_count": 4
        }
      ]
    },
    {
      "cell_type": "code",
      "source": [
        "nlp=spacy.load('en_core_web_sm')\n"
      ],
      "metadata": {
        "id": "6rATOdaKqtQT"
      },
      "execution_count": null,
      "outputs": []
    },
    {
      "cell_type": "code",
      "source": [
        "doc=nlp(text)\n"
      ],
      "metadata": {
        "id": "TQugOmdUqwFo"
      },
      "execution_count": null,
      "outputs": []
    },
    {
      "cell_type": "code",
      "source": [
        "punctuation=string.punctuation\n"
      ],
      "metadata": {
        "id": "sCHUwvjGqyOw"
      },
      "execution_count": null,
      "outputs": []
    },
    {
      "cell_type": "code",
      "source": [
        "punctuations=punctuation\n",
        "punctuations"
      ],
      "metadata": {
        "colab": {
          "base_uri": "https://localhost:8080/",
          "height": 36
        },
        "id": "Sg0fNClYq0aB",
        "outputId": "4b00c0f6-a7a2-4426-d1ad-86141bb7636a"
      },
      "execution_count": null,
      "outputs": [
        {
          "output_type": "execute_result",
          "data": {
            "text/plain": [
              "'!\"#$%&\\'()*+,-./:;<=>?@[\\\\]^_`{|}~'"
            ],
            "application/vnd.google.colaboratory.intrinsic+json": {
              "type": "string"
            }
          },
          "metadata": {},
          "execution_count": 8
        }
      ]
    },
    {
      "cell_type": "code",
      "source": [
        "tokens=[token.text for token in doc]\n"
      ],
      "metadata": {
        "id": "DpLUPGAbq4-E"
      },
      "execution_count": null,
      "outputs": []
    },
    {
      "cell_type": "code",
      "source": [
        "tokens[:100]\n"
      ],
      "metadata": {
        "colab": {
          "base_uri": "https://localhost:8080/"
        },
        "id": "oZyc9qfvq-3u",
        "outputId": "a9cd5e14-2b43-42a8-e46d-1888959126f7"
      },
      "execution_count": null,
      "outputs": [
        {
          "output_type": "execute_result",
          "data": {
            "text/plain": [
              "['\\n',\n",
              " 'There',\n",
              " 'is',\n",
              " 'a',\n",
              " 'bomb',\n",
              " 'in',\n",
              " 'my',\n",
              " 'hometown',\n",
              " ',',\n",
              " 'and',\n",
              " 'no',\n",
              " 'one',\n",
              " 'speaks',\n",
              " 'about',\n",
              " 'it',\n",
              " '.',\n",
              " '\\n\\n\\n',\n",
              " 'The',\n",
              " 'park',\n",
              " 'that',\n",
              " 'surrounds',\n",
              " 'it',\n",
              " 'acts',\n",
              " 'like',\n",
              " 'a',\n",
              " 'nest',\n",
              " ',',\n",
              " 'grown',\n",
              " 'up',\n",
              " 'naturally',\n",
              " 'around',\n",
              " 'the',\n",
              " 'smooth',\n",
              " ',',\n",
              " 'rounded',\n",
              " 'metal',\n",
              " 'body',\n",
              " 'that',\n",
              " 'lies',\n",
              " 'half',\n",
              " 'buried',\n",
              " 'in',\n",
              " 'the',\n",
              " 'soil',\n",
              " ',',\n",
              " 'the',\n",
              " 'ground',\n",
              " 'itself',\n",
              " 'embracing',\n",
              " 'it',\n",
              " '.',\n",
              " '\\n\\n\\n',\n",
              " 'Sensible',\n",
              " 'people',\n",
              " 'would',\n",
              " 'put',\n",
              " 'it',\n",
              " 'out',\n",
              " 'of',\n",
              " 'their',\n",
              " 'minds',\n",
              " 'altogether',\n",
              " ',',\n",
              " 'but',\n",
              " 'ever',\n",
              " 'since',\n",
              " 'my',\n",
              " 'classmates',\n",
              " 'and',\n",
              " 'I',\n",
              " 'discovered',\n",
              " 'it',\n",
              " 'by',\n",
              " 'sneaking',\n",
              " 'past',\n",
              " 'the',\n",
              " 'barbed',\n",
              " 'wire',\n",
              " 'fence',\n",
              " 'into',\n",
              " 'its',\n",
              " 'clearing',\n",
              " ',',\n",
              " 'I',\n",
              " 'was',\n",
              " 'never',\n",
              " 'able',\n",
              " 'to',\n",
              " '.',\n",
              " 'At',\n",
              " 'first',\n",
              " ',',\n",
              " 'I',\n",
              " 'had',\n",
              " 'been',\n",
              " 'disappointed',\n",
              " '.',\n",
              " 'This',\n",
              " ',',\n",
              " 'a']"
            ]
          },
          "metadata": {},
          "execution_count": 10
        }
      ]
    },
    {
      "cell_type": "code",
      "source": [
        "word_frequencies={}\n"
      ],
      "metadata": {
        "id": "9C6cBv6brBF2"
      },
      "execution_count": null,
      "outputs": []
    },
    {
      "cell_type": "code",
      "source": [
        "def word_frequency(doc):\n",
        "    mytokens=[token.text.lower().strip() for token in doc if token.text not in punctuations]\n",
        "    mytokens=[token for token in mytokens if token not in stopwords]\n",
        "\n",
        "    return mytokens\n",
        "\n",
        "def calc_word_frequency(temp):\n",
        "    for word in temp:\n",
        "        if word not in word_frequencies.keys():\n",
        "            word_frequencies[word]=1\n",
        "        else:\n",
        "            word_frequencies[word]+=1\n"
      ],
      "metadata": {
        "id": "3ONk7MsurD8C"
      },
      "execution_count": null,
      "outputs": []
    },
    {
      "cell_type": "code",
      "source": [
        "mytokens=word_frequency(doc)\n"
      ],
      "metadata": {
        "id": "9vW31abcrGKc"
      },
      "execution_count": null,
      "outputs": []
    },
    {
      "cell_type": "code",
      "source": [
        "len(mytokens)\n"
      ],
      "metadata": {
        "colab": {
          "base_uri": "https://localhost:8080/"
        },
        "id": "Afz07WD8rJ2p",
        "outputId": "c15907ec-666e-4770-c2bb-5b731a15d723"
      },
      "execution_count": null,
      "outputs": [
        {
          "output_type": "execute_result",
          "data": {
            "text/plain": [
              "108"
            ]
          },
          "metadata": {},
          "execution_count": 14
        }
      ]
    },
    {
      "cell_type": "code",
      "source": [
        "calc_word_frequency(mytokens)\n"
      ],
      "metadata": {
        "id": "hGOegnHTrL0v"
      },
      "execution_count": null,
      "outputs": []
    },
    {
      "cell_type": "code",
      "source": [
        "print(word_frequencies)\n"
      ],
      "metadata": {
        "colab": {
          "base_uri": "https://localhost:8080/"
        },
        "id": "t34CRcrcrOPk",
        "outputId": "43bf36a9-ffbd-459e-9b60-5328b5d00957"
      },
      "execution_count": null,
      "outputs": [
        {
          "output_type": "stream",
          "name": "stdout",
          "text": [
            "{'': 6, 'bomb': 1, 'hometown': 1, 'speaks': 1, 'park': 1, 'surrounds': 1, 'acts': 1, 'like': 1, 'nest': 1, 'grown': 1, 'naturally': 1, 'smooth': 1, 'rounded': 1, 'metal': 1, 'body': 2, 'lies': 1, 'half': 2, 'buried': 2, 'soil': 1, 'ground': 1, 'embracing': 1, 'sensible': 1, 'people': 1, 'minds': 1, 'altogether': 1, 'classmates': 1, 'discovered': 1, 'sneaking': 1, 'past': 1, 'barbed': 1, 'wire': 1, 'fence': 1, 'clearing': 1, 'able': 1, 'disappointed': 1, 'charcoal': 1, 'grey': 1, 'container': 1, 'hidden': 1, 'moss': 1, 'bracken': 1, 'affront': 1, 'avoided': 1, 'looking': 1, 'went': 1, 'got': 1, 'home': 1, 'evening': 1, '–': 2, 'saw': 1, 'mother': 1, 'reacted': 1, 'news': 1, 'gain': 1, 'inkling': 1, 'understanding': 1, 'face': 2, 'drained': 1, 'colour': 1, 'lips': 1, 'slackened': 1, 'eyes': 1, 'widened': 1, 'trying': 1, 'drink': 1, 'fear': 1, 'suddenly': 1, 'disappeared': 1, 'hands': 1, 'trembled': 1, 'arms': 1, 'encircled': 1, 'dropped': 1, 'knees': 1, 'held': 2, 'close': 1, 'hair': 1, 'head': 1, 'grew': 1, 'wet': 1, 'tears': 1, 'tightly': 1, 'whispered': 1, 'plea': 1, 'begging': 1, 'near': 1, 'saying': 1, 'thing': 1, 'day': 2, 'knew': 1, 'damage': 1, 'time': 1, 'learned': 1, 'impermanence': 1, 'world': 2}\n"
          ]
        }
      ]
    },
    {
      "cell_type": "code",
      "source": [
        "max_length=max(word_frequencies.values())\n",
        "max_length"
      ],
      "metadata": {
        "colab": {
          "base_uri": "https://localhost:8080/"
        },
        "id": "C7QIyhq3rQEt",
        "outputId": "027a92b3-0d14-41f8-d19e-c232d3f90907"
      },
      "execution_count": null,
      "outputs": [
        {
          "output_type": "execute_result",
          "data": {
            "text/plain": [
              "6"
            ]
          },
          "metadata": {},
          "execution_count": 17
        }
      ]
    },
    {
      "cell_type": "code",
      "source": [
        "for word in word_frequencies.keys():\n",
        "    word_frequencies[word]=word_frequencies[word]/max_length\n",
        "\n",
        "print(word_frequencies)"
      ],
      "metadata": {
        "colab": {
          "base_uri": "https://localhost:8080/"
        },
        "id": "BD2bl3GtrSZI",
        "outputId": "e64500aa-cdf0-4119-9408-473afc1356db"
      },
      "execution_count": null,
      "outputs": [
        {
          "output_type": "stream",
          "name": "stdout",
          "text": [
            "{'': 1.0, 'bomb': 0.16666666666666666, 'hometown': 0.16666666666666666, 'speaks': 0.16666666666666666, 'park': 0.16666666666666666, 'surrounds': 0.16666666666666666, 'acts': 0.16666666666666666, 'like': 0.16666666666666666, 'nest': 0.16666666666666666, 'grown': 0.16666666666666666, 'naturally': 0.16666666666666666, 'smooth': 0.16666666666666666, 'rounded': 0.16666666666666666, 'metal': 0.16666666666666666, 'body': 0.3333333333333333, 'lies': 0.16666666666666666, 'half': 0.3333333333333333, 'buried': 0.3333333333333333, 'soil': 0.16666666666666666, 'ground': 0.16666666666666666, 'embracing': 0.16666666666666666, 'sensible': 0.16666666666666666, 'people': 0.16666666666666666, 'minds': 0.16666666666666666, 'altogether': 0.16666666666666666, 'classmates': 0.16666666666666666, 'discovered': 0.16666666666666666, 'sneaking': 0.16666666666666666, 'past': 0.16666666666666666, 'barbed': 0.16666666666666666, 'wire': 0.16666666666666666, 'fence': 0.16666666666666666, 'clearing': 0.16666666666666666, 'able': 0.16666666666666666, 'disappointed': 0.16666666666666666, 'charcoal': 0.16666666666666666, 'grey': 0.16666666666666666, 'container': 0.16666666666666666, 'hidden': 0.16666666666666666, 'moss': 0.16666666666666666, 'bracken': 0.16666666666666666, 'affront': 0.16666666666666666, 'avoided': 0.16666666666666666, 'looking': 0.16666666666666666, 'went': 0.16666666666666666, 'got': 0.16666666666666666, 'home': 0.16666666666666666, 'evening': 0.16666666666666666, '–': 0.3333333333333333, 'saw': 0.16666666666666666, 'mother': 0.16666666666666666, 'reacted': 0.16666666666666666, 'news': 0.16666666666666666, 'gain': 0.16666666666666666, 'inkling': 0.16666666666666666, 'understanding': 0.16666666666666666, 'face': 0.3333333333333333, 'drained': 0.16666666666666666, 'colour': 0.16666666666666666, 'lips': 0.16666666666666666, 'slackened': 0.16666666666666666, 'eyes': 0.16666666666666666, 'widened': 0.16666666666666666, 'trying': 0.16666666666666666, 'drink': 0.16666666666666666, 'fear': 0.16666666666666666, 'suddenly': 0.16666666666666666, 'disappeared': 0.16666666666666666, 'hands': 0.16666666666666666, 'trembled': 0.16666666666666666, 'arms': 0.16666666666666666, 'encircled': 0.16666666666666666, 'dropped': 0.16666666666666666, 'knees': 0.16666666666666666, 'held': 0.3333333333333333, 'close': 0.16666666666666666, 'hair': 0.16666666666666666, 'head': 0.16666666666666666, 'grew': 0.16666666666666666, 'wet': 0.16666666666666666, 'tears': 0.16666666666666666, 'tightly': 0.16666666666666666, 'whispered': 0.16666666666666666, 'plea': 0.16666666666666666, 'begging': 0.16666666666666666, 'near': 0.16666666666666666, 'saying': 0.16666666666666666, 'thing': 0.16666666666666666, 'day': 0.3333333333333333, 'knew': 0.16666666666666666, 'damage': 0.16666666666666666, 'time': 0.16666666666666666, 'learned': 0.16666666666666666, 'impermanence': 0.16666666666666666, 'world': 0.3333333333333333}\n"
          ]
        }
      ]
    },
    {
      "cell_type": "code",
      "source": [
        "mysentences=[sents for sents in doc.sents]\n",
        "mysentences"
      ],
      "metadata": {
        "colab": {
          "base_uri": "https://localhost:8080/"
        },
        "id": "fmPZRjRUrUiF",
        "outputId": "38786dea-c5c1-4ab3-eae6-2fab14041b8c"
      },
      "execution_count": null,
      "outputs": [
        {
          "output_type": "execute_result",
          "data": {
            "text/plain": [
              "[\n",
              " There is a bomb in my hometown, and no one speaks about it.\n",
              " \n",
              " ,\n",
              " The park that surrounds it acts like a nest, grown up naturally around the smooth, rounded metal body that lies half buried in the soil, the ground itself embracing it.\n",
              " \n",
              " ,\n",
              " Sensible people would put it out of their minds altogether, but ever since my classmates and I discovered it by sneaking past the barbed wire fence into its clearing, I was never able to.,\n",
              " At first, I had been disappointed.,\n",
              " This, a charcoal grey container, half hidden by moss and bracken, was the affront that everyone avoided even looking at as they went by?\n",
              " \n",
              " \n",
              " Only when I got home that evening – when I saw how my mother reacted to the news of where I had been – did I gain my first inkling of understanding.\n",
              " \n",
              " ,\n",
              " Her face drained of all colour, her lips slackened, and her eyes widened as though trying to drink in all of me for fear that I might have suddenly disappeared.,\n",
              " Her hands trembled as her arms encircled me, and she dropped to her knees as she held me close to her body, buried her face in my hair.,\n",
              " The top of my head grew wet with her tears as she held on tightly, and whispered a plea, begging me never to go near it again, saying that the thing could go off any day now and no one knew what damage it would do.\n",
              " \n",
              " ,\n",
              " That was the first time I learned of my own impermanence.,\n",
              " That there was a world before me, and one day, would be a world after.]"
            ]
          },
          "metadata": {},
          "execution_count": 19
        }
      ]
    },
    {
      "cell_type": "code",
      "source": [
        "sentences_frequencies={}\n",
        "\n",
        "for sent in mysentences:\n",
        "    for word in sent:\n",
        "        if word.text.lower() in word_frequencies.keys():\n",
        "            if sent not in  sentences_frequencies.keys():\n",
        "                sentences_frequencies[sent]=word_frequencies[word.text.lower()]\n",
        "\n",
        "            else:\n",
        "                sentences_frequencies[sent]+=word_frequencies[word.text.lower()]\n",
        "\n",
        "print(sentences_frequencies)"
      ],
      "metadata": {
        "colab": {
          "base_uri": "https://localhost:8080/"
        },
        "id": "zBHot9Evrcoh",
        "outputId": "67070b54-fcec-4211-ca0c-f5bb140bd68a"
      },
      "execution_count": null,
      "outputs": [
        {
          "output_type": "stream",
          "name": "stdout",
          "text": [
            "{\n",
            "There is a bomb in my hometown, and no one speaks about it.\n",
            "\n",
            "\n",
            ": 0.5, The park that surrounds it acts like a nest, grown up naturally around the smooth, rounded metal body that lies half buried in the soil, the ground itself embracing it.\n",
            "\n",
            "\n",
            ": 3.333333333333333, Sensible people would put it out of their minds altogether, but ever since my classmates and I discovered it by sneaking past the barbed wire fence into its clearing, I was never able to.: 2.1666666666666665, At first, I had been disappointed.: 0.16666666666666666, This, a charcoal grey container, half hidden by moss and bracken, was the affront that everyone avoided even looking at as they went by?\n",
            "\n",
            "\n",
            "Only when I got home that evening – when I saw how my mother reacted to the news of where I had been – did I gain my first inkling of understanding.\n",
            "\n",
            "\n",
            ": 4.333333333333333, Her face drained of all colour, her lips slackened, and her eyes widened as though trying to drink in all of me for fear that I might have suddenly disappeared.: 2.1666666666666665, Her hands trembled as her arms encircled me, and she dropped to her knees as she held me close to her body, buried her face in my hair.: 2.6666666666666665, The top of my head grew wet with her tears as she held on tightly, and whispered a plea, begging me never to go near it again, saying that the thing could go off any day now and no one knew what damage it would do.\n",
            "\n",
            "\n",
            ": 2.8333333333333335, That was the first time I learned of my own impermanence.: 0.5, That there was a world before me, and one day, would be a world after.: 1.0}\n"
          ]
        }
      ]
    },
    {
      "cell_type": "code",
      "source": [
        "total_sentences=len(mysentences)\n",
        "total_sentences"
      ],
      "metadata": {
        "colab": {
          "base_uri": "https://localhost:8080/"
        },
        "id": "itvA8_lFrfme",
        "outputId": "f7916075-289b-4a27-a93f-7b28b14b73d3"
      },
      "execution_count": null,
      "outputs": [
        {
          "output_type": "execute_result",
          "data": {
            "text/plain": [
              "10"
            ]
          },
          "metadata": {},
          "execution_count": 21
        }
      ]
    },
    {
      "cell_type": "code",
      "source": [
        "num_sent=int(total_sentences*0.3)\n",
        "num_sent"
      ],
      "metadata": {
        "colab": {
          "base_uri": "https://localhost:8080/"
        },
        "id": "V2zNvflCrh-r",
        "outputId": "5f50a832-b9d3-4683-b1df-75c36095a1de"
      },
      "execution_count": null,
      "outputs": [
        {
          "output_type": "execute_result",
          "data": {
            "text/plain": [
              "3"
            ]
          },
          "metadata": {},
          "execution_count": 22
        }
      ]
    },
    {
      "cell_type": "code",
      "source": [
        "from heapq import nlargest\n"
      ],
      "metadata": {
        "id": "13bCSIkLrkqb"
      },
      "execution_count": null,
      "outputs": []
    },
    {
      "cell_type": "code",
      "source": [
        "summary=nlargest(num_sent, sentences_frequencies, key=sentences_frequencies.get)\n",
        "summary"
      ],
      "metadata": {
        "colab": {
          "base_uri": "https://localhost:8080/"
        },
        "id": "--tBoScjrmYd",
        "outputId": "5c192531-f55f-4c66-e33b-88d257bbd741"
      },
      "execution_count": null,
      "outputs": [
        {
          "output_type": "execute_result",
          "data": {
            "text/plain": [
              "[This, a charcoal grey container, half hidden by moss and bracken, was the affront that everyone avoided even looking at as they went by?\n",
              " \n",
              " \n",
              " Only when I got home that evening – when I saw how my mother reacted to the news of where I had been – did I gain my first inkling of understanding.\n",
              " \n",
              " ,\n",
              " The park that surrounds it acts like a nest, grown up naturally around the smooth, rounded metal body that lies half buried in the soil, the ground itself embracing it.\n",
              " \n",
              " ,\n",
              " The top of my head grew wet with her tears as she held on tightly, and whispered a plea, begging me never to go near it again, saying that the thing could go off any day now and no one knew what damage it would do.\n",
              " \n",
              " ]"
            ]
          },
          "metadata": {},
          "execution_count": 24
        }
      ]
    },
    {
      "cell_type": "code",
      "source": [
        "final_summary=[word.text for word in summary]\n",
        "final_summary=' '.join(final_summary)"
      ],
      "metadata": {
        "id": "BDFHxfy7roar"
      },
      "execution_count": null,
      "outputs": []
    },
    {
      "cell_type": "code",
      "source": [
        "final_summary\n"
      ],
      "metadata": {
        "colab": {
          "base_uri": "https://localhost:8080/",
          "height": 88
        },
        "id": "cR89dQgvrsXb",
        "outputId": "e183d24f-4085-4d06-d7b8-83297880c711"
      },
      "execution_count": null,
      "outputs": [
        {
          "output_type": "execute_result",
          "data": {
            "text/plain": [
              "'This, a charcoal grey container, half hidden by moss and bracken, was the affront that everyone avoided even looking at as they went by?\\n\\n\\nOnly when I got home that evening – when I saw how my mother reacted to the news of where I had been – did I gain my first inkling of understanding.\\n\\n\\n The park that surrounds it acts like a nest, grown up naturally around the smooth, rounded metal body that lies half buried in the soil, the ground itself embracing it.\\n\\n\\n The top of my head grew wet with her tears as she held on tightly, and whispered a plea, begging me never to go near it again, saying that the thing could go off any day now and no one knew what damage it would do.\\n\\n\\n'"
            ],
            "application/vnd.google.colaboratory.intrinsic+json": {
              "type": "string"
            }
          },
          "metadata": {},
          "execution_count": 26
        }
      ]
    },
    {
      "cell_type": "code",
      "source": [
        "len(text), len(final_summary)\n"
      ],
      "metadata": {
        "colab": {
          "base_uri": "https://localhost:8080/"
        },
        "id": "xTksUMyHruVX",
        "outputId": "14328cb5-64ae-4f4a-d7b4-3ce211726585"
      },
      "execution_count": null,
      "outputs": [
        {
          "output_type": "execute_result",
          "data": {
            "text/plain": [
              "(1389, 680)"
            ]
          },
          "metadata": {},
          "execution_count": 27
        }
      ]
    },
    {
      "cell_type": "code",
      "source": [],
      "metadata": {
        "id": "7iW_3SOWrxDf"
      },
      "execution_count": null,
      "outputs": []
    }
  ]
}